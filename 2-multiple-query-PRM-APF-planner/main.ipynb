{
 "cells": [
  {
   "cell_type": "markdown",
   "metadata": {},
   "source": [
    "# Multiple Query PRM APF Planner"
   ]
  },
  {
   "cell_type": "markdown",
   "metadata": {},
   "source": [
    "Importing all required libraries and defining all required variables"
   ]
  },
  {
   "cell_type": "code",
   "execution_count": 2,
   "metadata": {},
   "outputs": [],
   "source": [
    "import numpy as np \n",
    "import matplotlib\n",
    "import matplotlib.pyplot as plt\n",
    "\n",
    "# The map is 60 x 40\n",
    "map = np.zeros((60, 40))\n",
    "# Nodes can be denoted by 1s and obstacles (all the cells in the area) by 0s\n"
   ]
  },
  {
   "cell_type": "markdown",
   "metadata": {},
   "source": [
    "Setting up the plot and populating it with obstacles"
   ]
  },
  {
   "cell_type": "code",
   "execution_count": null,
   "metadata": {},
   "outputs": [],
   "source": [
    "plt.rcParams['figure.figsize'] = (12, 8)\n",
    "x = np.linspace(0, 60, 10)\n",
    "y = np.linspace(0, 40, 10)\n",
    "fig = plt.figure()\n",
    "ax = fig.add_subplot(111)\n",
    "ax.set_xlim(0, 60)\n",
    "ax.set_ylim(0, 40)\n",
    "ax.set_title('Probabilistic Road Map')\n",
    "\n",
    "with open(\"obstacles.txt\") as f:\n",
    "    for line in f:\n",
    "        vertices_arr = line.split()\n",
    "        ax.fill(vertices_arr[::2], vertices_arr[1::2])"
   ]
  },
  {
   "cell_type": "markdown",
   "metadata": {},
   "source": [
    "Defining the following functions: \n",
    "- `dist()`: to judge the distance between two nodes.\\\n",
    "Since we just need a metric to evaluate the distance between two nodes, we can skip the square root calculation.\n",
    "- `knn()`: to find the k nearest neighbors of a node.\n"
   ]
  },
  {
   "cell_type": "code",
   "execution_count": 10,
   "metadata": {},
   "outputs": [],
   "source": [
    "def dist(q1,q2):\n",
    "    return (q1[0]-q2[0])**2 + (q1[1]-q2[1])**2\n",
    "\n",
    "def knn(q,Q,k):\n",
    "    dists = [dist(q,p) for p in Q if p != q]\n",
    "    return [Q[i] for i in np.argsort(dists)[:k]]\n"
   ]
  },
  {
   "cell_type": "markdown",
   "metadata": {},
   "source": [
    "Populating the grid with configurations"
   ]
  },
  {
   "cell_type": "code",
   "execution_count": 11,
   "metadata": {},
   "outputs": [],
   "source": [
    "# A list of coordinates that are chosen randomly \n",
    "N_nodes = 1000\n",
    "Q = [(np.random.randint(0, 60), np.random.randint(0, 40)) for _ in range(N_nodes)]\n",
    "\n",
    "#! Use APF to join the nodes that can be joined together\n",
    "\n"
   ]
  },
  {
   "cell_type": "markdown",
   "metadata": {},
   "source": [
    "## Checkpoint 1: \n",
    "Construct the roadmap and show the graph on matplotlib. Show the sampled nodes in green, nodes that were rejected as red, obstacles as blue. Also connect the nodes that share a edge using straight lines."
   ]
  },
  {
   "cell_type": "markdown",
   "metadata": {},
   "source": [
    "## Checkpoint 2:\n",
    "Augment the start and the goal point to the roadmap. Mark these points using a separate color. Show the graph on matplotlib again as described above. Then apply Dijkstra or A∗ search to find a path from the start to the goal point. Mark the edges that constitute the path in some other color. Repeat for all queries in the file"
   ]
  },
  {
   "cell_type": "markdown",
   "metadata": {},
   "source": [
    "## Checkpoint 3:\n",
    "Divide the map into a grid (each square should be of 0.0625 sq units) and show it (use any method you want, we just want to look at it). Mark a grid square as blocked if it’s centre lies inside an obstacle. Else mark it free. Color all blocked grid square as black, rest as white. (Do all this in a separate image/plot, don’t make the previous plot cluttered)."
   ]
  },
  {
   "cell_type": "markdown",
   "metadata": {},
   "source": [
    "## Checkpoint 4: \n",
    "Apply Brushfire or the Wavefront Planner and find out the distances of each grid square from the obstacles. Use these distances for planning a path locally. Create an animation, or mark the path in the grid."
   ]
  }
 ],
 "metadata": {
  "kernelspec": {
   "display_name": "Python 3.9.13 64-bit",
   "language": "python",
   "name": "python3"
  },
  "language_info": {
   "name": "python",
   "version": "3.9.13"
  },
  "orig_nbformat": 4,
  "vscode": {
   "interpreter": {
    "hash": "b0fa6594d8f4cbf19f97940f81e996739fb7646882a419484c72d19e05852a7e"
   }
  }
 },
 "nbformat": 4,
 "nbformat_minor": 2
}
